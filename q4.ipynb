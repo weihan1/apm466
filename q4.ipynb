{
  "cells": [
    {
      "cell_type": "code",
      "execution_count": 48,
      "metadata": {},
      "outputs": [],
      "source": [
        "import numpy as np\n",
        "from numpy import linalg as LA\n",
        "import sympy\n",
        "import math\n",
        "from sympy.solvers import solve\n",
        "from sympy import Symbol\n",
        "from sympy import Eq\n",
        "import datetime\n",
        "from datetime import timedelta\n",
        "import matplotlib.pyplot as plt\n",
        "from scipy.interpolate import splrep, splev\n",
        "import pandas as pd"
      ]
    },
    {
      "cell_type": "code",
      "execution_count": 88,
      "metadata": {
        "colab": {},
        "colab_type": "code",
        "id": "jKZe4Vsmg3mt"
      },
      "outputs": [],
      "source": [
        "class bond:\n",
        "   def __init__(self, ISIN, ten_day_price, maturity_date, coupon_rate, periods):\n",
        "      self.ISIN = ISIN\n",
        "      self.ten_day_price = ten_day_price\n",
        "      self.maturity_date = maturity_date\n",
        "      self.coupon_rate = coupon_rate\n",
        "      self.periods = periods"
      ]
    },
    {
      "cell_type": "code",
      "execution_count": 89,
      "metadata": {},
      "outputs": [],
      "source": [
        "all_bonds = pd.read_csv('bond_prices.csv')"
      ]
    },
    {
      "cell_type": "code",
      "execution_count": 90,
      "metadata": {},
      "outputs": [
        {
          "data": {
            "text/plain": [
              "'CA135087D507'"
            ]
          },
          "execution_count": 90,
          "metadata": {},
          "output_type": "execute_result"
        }
      ],
      "source": [
        "all_bonds[\"ISIN\"][1]"
      ]
    },
    {
      "cell_type": "code",
      "execution_count": 91,
      "metadata": {},
      "outputs": [
        {
          "data": {
            "text/html": [
              "<div>\n",
              "<style scoped>\n",
              "    .dataframe tbody tr th:only-of-type {\n",
              "        vertical-align: middle;\n",
              "    }\n",
              "\n",
              "    .dataframe tbody tr th {\n",
              "        vertical-align: top;\n",
              "    }\n",
              "\n",
              "    .dataframe thead th {\n",
              "        text-align: right;\n",
              "    }\n",
              "</style>\n",
              "<table border=\"1\" class=\"dataframe\">\n",
              "  <thead>\n",
              "    <tr style=\"text-align: right;\">\n",
              "      <th></th>\n",
              "      <th>0</th>\n",
              "      <th>1</th>\n",
              "      <th>2</th>\n",
              "      <th>3</th>\n",
              "      <th>4</th>\n",
              "      <th>5</th>\n",
              "      <th>6</th>\n",
              "      <th>7</th>\n",
              "      <th>8</th>\n",
              "      <th>9</th>\n",
              "      <th>10</th>\n",
              "      <th>Coupon</th>\n",
              "      <th>ISIN</th>\n",
              "      <th>issue date</th>\n",
              "      <th>maturity date</th>\n",
              "    </tr>\n",
              "  </thead>\n",
              "  <tbody>\n",
              "    <tr>\n",
              "      <th>3</th>\n",
              "      <td>99.63</td>\n",
              "      <td>99.640</td>\n",
              "      <td>99.650</td>\n",
              "      <td>99.660</td>\n",
              "      <td>99.670</td>\n",
              "      <td>99.680</td>\n",
              "      <td>99.680</td>\n",
              "      <td>99.680</td>\n",
              "      <td>99.700</td>\n",
              "      <td>99.720</td>\n",
              "      <td>99.72</td>\n",
              "      <td>0.0250</td>\n",
              "      <td>CA135087J546</td>\n",
              "      <td>10/5/2018</td>\n",
              "      <td>3/1/2024</td>\n",
              "    </tr>\n",
              "    <tr>\n",
              "      <th>4</th>\n",
              "      <td>97.96</td>\n",
              "      <td>97.980</td>\n",
              "      <td>97.980</td>\n",
              "      <td>97.980</td>\n",
              "      <td>98.020</td>\n",
              "      <td>98.050</td>\n",
              "      <td>97.970</td>\n",
              "      <td>97.970</td>\n",
              "      <td>97.990</td>\n",
              "      <td>98.000</td>\n",
              "      <td>98.03</td>\n",
              "      <td>0.0150</td>\n",
              "      <td>CA135087J967</td>\n",
              "      <td>4/5/2019</td>\n",
              "      <td>9/1/2024</td>\n",
              "    </tr>\n",
              "    <tr>\n",
              "      <th>7</th>\n",
              "      <td>92.86</td>\n",
              "      <td>92.860</td>\n",
              "      <td>92.840</td>\n",
              "      <td>92.850</td>\n",
              "      <td>93.020</td>\n",
              "      <td>93.000</td>\n",
              "      <td>92.790</td>\n",
              "      <td>92.570</td>\n",
              "      <td>92.540</td>\n",
              "      <td>92.540</td>\n",
              "      <td>92.55</td>\n",
              "      <td>0.0025</td>\n",
              "      <td>CA135087L518</td>\n",
              "      <td>10/9/2020</td>\n",
              "      <td>3/1/2026</td>\n",
              "    </tr>\n",
              "    <tr>\n",
              "      <th>9</th>\n",
              "      <td>93.46</td>\n",
              "      <td>93.440</td>\n",
              "      <td>93.550</td>\n",
              "      <td>93.530</td>\n",
              "      <td>93.600</td>\n",
              "      <td>93.570</td>\n",
              "      <td>93.400</td>\n",
              "      <td>93.120</td>\n",
              "      <td>93.080</td>\n",
              "      <td>93.070</td>\n",
              "      <td>93.00</td>\n",
              "      <td>0.0100</td>\n",
              "      <td>CA135087L930</td>\n",
              "      <td>4/16/2021</td>\n",
              "      <td>9/1/2026</td>\n",
              "    </tr>\n",
              "    <tr>\n",
              "      <th>15</th>\n",
              "      <td>98.19</td>\n",
              "      <td>98.200</td>\n",
              "      <td>98.260</td>\n",
              "      <td>98.250</td>\n",
              "      <td>98.310</td>\n",
              "      <td>98.310</td>\n",
              "      <td>98.210</td>\n",
              "      <td>98.020</td>\n",
              "      <td>97.980</td>\n",
              "      <td>97.970</td>\n",
              "      <td>97.90</td>\n",
              "      <td>0.0300</td>\n",
              "      <td>CA135087P246</td>\n",
              "      <td>7/25/22</td>\n",
              "      <td>10/1/25</td>\n",
              "    </tr>\n",
              "    <tr>\n",
              "      <th>17</th>\n",
              "      <td>99.13</td>\n",
              "      <td>99.135</td>\n",
              "      <td>99.146</td>\n",
              "      <td>99.127</td>\n",
              "      <td>99.242</td>\n",
              "      <td>99.277</td>\n",
              "      <td>99.111</td>\n",
              "      <td>99.029</td>\n",
              "      <td>99.014</td>\n",
              "      <td>99.025</td>\n",
              "      <td>99.04</td>\n",
              "      <td>0.0375</td>\n",
              "      <td>CA135087P659</td>\n",
              "      <td>11/2/22</td>\n",
              "      <td>2/1/25</td>\n",
              "    </tr>\n",
              "    <tr>\n",
              "      <th>33</th>\n",
              "      <td>97.58</td>\n",
              "      <td>97.591</td>\n",
              "      <td>97.603</td>\n",
              "      <td>97.520</td>\n",
              "      <td>97.740</td>\n",
              "      <td>97.772</td>\n",
              "      <td>97.441</td>\n",
              "      <td>97.092</td>\n",
              "      <td>96.956</td>\n",
              "      <td>96.947</td>\n",
              "      <td>96.94</td>\n",
              "      <td>0.0275</td>\n",
              "      <td>CA135087N837</td>\n",
              "      <td>5/13/22</td>\n",
              "      <td>9/1/27</td>\n",
              "    </tr>\n",
              "    <tr>\n",
              "      <th>35</th>\n",
              "      <td>100.50</td>\n",
              "      <td>100.480</td>\n",
              "      <td>100.439</td>\n",
              "      <td>100.328</td>\n",
              "      <td>100.637</td>\n",
              "      <td>100.673</td>\n",
              "      <td>100.220</td>\n",
              "      <td>99.834</td>\n",
              "      <td>99.662</td>\n",
              "      <td>99.623</td>\n",
              "      <td>99.67</td>\n",
              "      <td>0.0350</td>\n",
              "      <td>CA135087P576</td>\n",
              "      <td>10/21/22</td>\n",
              "      <td>3/1/28</td>\n",
              "    </tr>\n",
              "    <tr>\n",
              "      <th>36</th>\n",
              "      <td>99.24</td>\n",
              "      <td>99.250</td>\n",
              "      <td>99.280</td>\n",
              "      <td>99.170</td>\n",
              "      <td>99.390</td>\n",
              "      <td>99.410</td>\n",
              "      <td>99.100</td>\n",
              "      <td>98.750</td>\n",
              "      <td>98.610</td>\n",
              "      <td>98.600</td>\n",
              "      <td>98.57</td>\n",
              "      <td>0.0325</td>\n",
              "      <td>CA135087P733</td>\n",
              "      <td>12/2/22</td>\n",
              "      <td>8/24/27</td>\n",
              "    </tr>\n",
              "    <tr>\n",
              "      <th>37</th>\n",
              "      <td>99.74</td>\n",
              "      <td>99.720</td>\n",
              "      <td>99.720</td>\n",
              "      <td>99.550</td>\n",
              "      <td>99.880</td>\n",
              "      <td>99.910</td>\n",
              "      <td>99.440</td>\n",
              "      <td>98.990</td>\n",
              "      <td>98.810</td>\n",
              "      <td>98.770</td>\n",
              "      <td>98.83</td>\n",
              "      <td>0.0325</td>\n",
              "      <td>CA135087Q491</td>\n",
              "      <td>4/21/23</td>\n",
              "      <td>9/1/28</td>\n",
              "    </tr>\n",
              "  </tbody>\n",
              "</table>\n",
              "</div>"
            ],
            "text/plain": [
              "         0        1        2        3        4        5        6       7  \\\n",
              "3    99.63   99.640   99.650   99.660   99.670   99.680   99.680  99.680   \n",
              "4    97.96   97.980   97.980   97.980   98.020   98.050   97.970  97.970   \n",
              "7    92.86   92.860   92.840   92.850   93.020   93.000   92.790  92.570   \n",
              "9    93.46   93.440   93.550   93.530   93.600   93.570   93.400  93.120   \n",
              "15   98.19   98.200   98.260   98.250   98.310   98.310   98.210  98.020   \n",
              "17   99.13   99.135   99.146   99.127   99.242   99.277   99.111  99.029   \n",
              "33   97.58   97.591   97.603   97.520   97.740   97.772   97.441  97.092   \n",
              "35  100.50  100.480  100.439  100.328  100.637  100.673  100.220  99.834   \n",
              "36   99.24   99.250   99.280   99.170   99.390   99.410   99.100  98.750   \n",
              "37   99.74   99.720   99.720   99.550   99.880   99.910   99.440  98.990   \n",
              "\n",
              "         8       9     10  Coupon          ISIN issue date maturity date  \n",
              "3   99.700  99.720  99.72  0.0250  CA135087J546  10/5/2018      3/1/2024  \n",
              "4   97.990  98.000  98.03  0.0150  CA135087J967   4/5/2019      9/1/2024  \n",
              "7   92.540  92.540  92.55  0.0025  CA135087L518  10/9/2020      3/1/2026  \n",
              "9   93.080  93.070  93.00  0.0100  CA135087L930  4/16/2021      9/1/2026  \n",
              "15  97.980  97.970  97.90  0.0300  CA135087P246    7/25/22       10/1/25  \n",
              "17  99.014  99.025  99.04  0.0375  CA135087P659    11/2/22        2/1/25  \n",
              "33  96.956  96.947  96.94  0.0275  CA135087N837    5/13/22        9/1/27  \n",
              "35  99.662  99.623  99.67  0.0350  CA135087P576   10/21/22        3/1/28  \n",
              "36  98.610  98.600  98.57  0.0325  CA135087P733    12/2/22       8/24/27  \n",
              "37  98.810  98.770  98.83  0.0325  CA135087Q491    4/21/23        9/1/28  "
            ]
          },
          "execution_count": 91,
          "metadata": {},
          "output_type": "execute_result"
        }
      ],
      "source": [
        "#Select the 10 bonds that we're interested in \n",
        "desired_ISIN = np.array([\"CA135087J546\", \"CA135087J967\", \"CA135087L518\", \"CA135087L930\", \"CA135087P246\", \"CA135087P659\", \"CA135087N837\", \"CA135087P576\", \"CA135087P733\", \"CA135087Q491\"])\n",
        "select_bonds = all_bonds[all_bonds[\"ISIN\"].isin(desired_ISIN)]\n",
        "#Exclude the first column\n",
        "select_bonds = select_bonds.iloc[:, 1:]\n",
        "select_bonds\n"
      ]
    },
    {
      "cell_type": "code",
      "execution_count": 92,
      "metadata": {
        "colab": {},
        "colab_type": "code",
        "id": "JExEEue2pFSd"
      },
      "outputs": [],
      "source": [
        "ten_day_2024_03_01= select_bonds[select_bonds[\"ISIN\"] == \"CA135087J546\"]\n",
        "date = datetime.date(2024, 3, 1)\n",
        "bond_2024_03_01 = bond(\"CA135087D929\", ten_day_2024_03_01.iloc[:,:11].to_dict(), date, ten_day_2024_03_01[\"Coupon\"], 0)\n",
        "\n",
        "ten_day_2024_09_01 = select_bonds[select_bonds[\"ISIN\"] == \"CA135087J967\"]\n",
        "date = datetime.date(2024, 9, 1)\n",
        "bond_2024_9_1 = bond(\"CA135087YZ11\", ten_day_2024_09_01.iloc[:,:11].to_dict(), date, ten_day_2024_09_01[\"Coupon\"], 0)\n",
        "\n",
        "ten_day_2025_2_1 = select_bonds[select_bonds[\"ISIN\"] == \"CA135087P659\"]\n",
        "date = datetime.date(2025, 2, 1)\n",
        "bond_2025_2_1 = bond(\"CA135087E596\", ten_day_2025_2_1.iloc[:,:11].to_dict(), date, ten_day_2025_2_1[\"Coupon\"], 1)\n",
        "\n",
        "ten_day_2025_10_1 = select_bonds[select_bonds[\"ISIN\"] == \"CA135087P246\"]\n",
        "date = datetime.date(2025, 10, 1)\n",
        "bond_2025_10_1 = bond(\"CA135087F254\", ten_day_2025_10_1.iloc[:,:11].to_dict(), date, ten_day_2025_10_1[\"Coupon\"], 2)\n",
        "\n",
        "ten_day_2026_3_1 = select_bonds[select_bonds[\"ISIN\"] == \"CA135087L518\"]\n",
        "date = datetime.date(2026, 3, 1)\n",
        "bond_2026_3_1 = bond(\"CA135087F585\", ten_day_2026_3_1.iloc[:,:11].to_dict(), date, ten_day_2026_3_1[\"Coupon\"], 3)\n",
        "\n",
        "ten_day_2026_9_1 = select_bonds[select_bonds[\"ISIN\"] == \"CA135087L518\"]\n",
        "date = datetime.date(2026, 9, 1)\n",
        "bond_2026_9_1 = bond(\"CA135087G328\", ten_day_2026_9_1.iloc[:,:11].to_dict(), date, ten_day_2026_9_1[\"Coupon\"], 4)\n",
        "\n",
        "ten_day_2027_8_24 = select_bonds[select_bonds[\"ISIN\"] == \"CA135087P733\"]\n",
        "date = datetime.date(2027, 8, 24)\n",
        "bond_2027_8_24= bond(\"CA135087H490\", ten_day_2027_8_24.iloc[:,:11].to_dict(), date, ten_day_2027_8_24[\"Coupon\"], 5)\n",
        "\n",
        "ten_day_2027_9_1 = select_bonds[select_bonds[\"ISIN\"] == \"CA135087N837\"]\n",
        "date = datetime.date(2027, 9, 1)\n",
        "bond_2027_9_1 = bond(\"CA135087J546\", ten_day_2027_9_1.iloc[:,:11].to_dict(), date, ten_day_2027_9_1[\"Coupon\"], 6)\n",
        "\n",
        "ten_day_2028_3_1 = select_bonds[select_bonds[\"ISIN\"] == \"CA135087P576\"]\n",
        "date = datetime.date(2028, 3, 1)\n",
        "bond_2028_3_1 = bond(\"CA135087J967\", ten_day_2028_3_1.iloc[:,:11].to_dict(), date, ten_day_2028_3_1[\"Coupon\"], 7)\n",
        "\n",
        "ten_day_2028_9_1 = select_bonds[select_bonds[\"ISIN\"] == \"CA135087Q491\"]\n",
        "date = datetime.date(2028, 9, 1)\n",
        "bond_2028_9_1 = bond(\"CA135087K528\", ten_day_2028_9_1.iloc[:,:11].to_dict(), date, ten_day_2028_9_1[\"Coupon\"], 8)"
      ]
    },
    {
      "cell_type": "code",
      "execution_count": 94,
      "metadata": {},
      "outputs": [
        {
          "name": "stdout",
          "output_type": "stream",
          "text": [
            "<__main__.bond object at 0x17ff87410>\n"
          ]
        }
      ],
      "source": [
        "print(bond)"
      ]
    },
    {
      "cell_type": "code",
      "execution_count": 93,
      "metadata": {
        "colab": {},
        "colab_type": "code",
        "id": "TZOqw3SZtYKG"
      },
      "outputs": [
        {
          "ename": "RuntimeError",
          "evalue": "dictionary keys changed during iteration",
          "output_type": "error",
          "traceback": [
            "\u001b[0;31m---------------------------------------------------------------------------\u001b[0m",
            "\u001b[0;31mRuntimeError\u001b[0m                              Traceback (most recent call last)",
            "Cell \u001b[0;32mIn[93], line 15\u001b[0m\n\u001b[1;32m     13\u001b[0m \u001b[38;5;66;03m#Convert the keys of each bond.ten_day_price to an integer\u001b[39;00m\n\u001b[1;32m     14\u001b[0m \u001b[38;5;28;01mfor\u001b[39;00m bond \u001b[38;5;129;01min\u001b[39;00m bonds_list:\n\u001b[0;32m---> 15\u001b[0m \u001b[43m    \u001b[49m\u001b[38;5;28;43;01mfor\u001b[39;49;00m\u001b[43m \u001b[49m\u001b[43mkey\u001b[49m\u001b[43m \u001b[49m\u001b[38;5;129;43;01min\u001b[39;49;00m\u001b[43m \u001b[49m\u001b[43mbond\u001b[49m\u001b[38;5;241;43m.\u001b[39;49m\u001b[43mten_day_price\u001b[49m\u001b[38;5;241;43m.\u001b[39;49m\u001b[43mkeys\u001b[49m\u001b[43m(\u001b[49m\u001b[43m)\u001b[49m\u001b[43m:\u001b[49m\n\u001b[1;32m     16\u001b[0m \u001b[43m        \u001b[49m\u001b[43mnew_key\u001b[49m\u001b[43m \u001b[49m\u001b[38;5;241;43m=\u001b[39;49m\u001b[43m \u001b[49m\u001b[38;5;28;43mint\u001b[39;49m\u001b[43m(\u001b[49m\u001b[43mkey\u001b[49m\u001b[43m)\u001b[49m\n\u001b[1;32m     17\u001b[0m \u001b[43m        \u001b[49m\u001b[43mbond\u001b[49m\u001b[38;5;241;43m.\u001b[39;49m\u001b[43mten_day_price\u001b[49m\u001b[43m[\u001b[49m\u001b[43mnew_key\u001b[49m\u001b[43m]\u001b[49m\u001b[43m \u001b[49m\u001b[38;5;241;43m=\u001b[39;49m\u001b[43m \u001b[49m\u001b[43mbond\u001b[49m\u001b[38;5;241;43m.\u001b[39;49m\u001b[43mten_day_price\u001b[49m\u001b[38;5;241;43m.\u001b[39;49m\u001b[43mpop\u001b[49m\u001b[43m(\u001b[49m\u001b[43mkey\u001b[49m\u001b[43m)\u001b[49m\n",
            "\u001b[0;31mRuntimeError\u001b[0m: dictionary keys changed during iteration"
          ]
        }
      ],
      "source": [
        "bonds_list = []\n",
        "bonds_list.append(bond_2024_03_01)\n",
        "bonds_list.append(bond_2024_9_1)\n",
        "bonds_list.append(bond_2025_2_1)\n",
        "bonds_list.append(bond_2025_10_1)\n",
        "bonds_list.append(bond_2026_3_1)\n",
        "bonds_list.append(bond_2026_9_1)\n",
        "bonds_list.append(bond_2027_8_24)\n",
        "bonds_list.append(bond_2027_9_1)\n",
        "bonds_list.append(bond_2028_3_1)\n",
        "\n",
        "\n",
        "#Convert the keys of each bond.ten_day_price to an integer\n",
        "for bond in bonds_list:\n",
        "    for key in bond.ten_day_price.keys():\n",
        "        new_key = int(key)\n",
        "        bond.ten_day_price[new_key] = bond.ten_day_price.pop(key)\n"
      ]
    },
    {
      "cell_type": "code",
      "execution_count": 55,
      "metadata": {},
      "outputs": [
        {
          "data": {
            "text/plain": [
              "[<__main__.bond at 0x283ba1100>,\n",
              " <__main__.bond at 0x283ba7410>,\n",
              " <__main__.bond at 0x283ba9f70>,\n",
              " <__main__.bond at 0x147c9aea0>,\n",
              " <__main__.bond at 0x283bac530>,\n",
              " <__main__.bond at 0x283bb0980>,\n",
              " <__main__.bond at 0x283bac0e0>,\n",
              " <__main__.bond at 0x283ba07d0>,\n",
              " <__main__.bond at 0x283bb6c30>]"
            ]
          },
          "execution_count": 55,
          "metadata": {},
          "output_type": "execute_result"
        }
      ],
      "source": [
        "bonds_list"
      ]
    },
    {
      "cell_type": "code",
      "execution_count": 56,
      "metadata": {
        "colab": {},
        "colab_type": "code",
        "id": "84B6Fb9YSMF8"
      },
      "outputs": [],
      "source": [
        "record_date_dict = {}\n",
        "record_date_dict[0] = datetime.date(2024, 3, 1)\n",
        "record_date_dict[1] = datetime.date(2024, 9, 1)\n",
        "record_date_dict[2] = datetime.date(2025, 2, 1)\n",
        "record_date_dict[3] = datetime.date(2025, 10, 1)\n",
        "record_date_dict[4] = datetime.date(2026, 3, 1)\n",
        "record_date_dict[5] = datetime.date(2026, 9, 1)\n",
        "record_date_dict[6] = datetime.date(2027, 8, 24)\n",
        "record_date_dict[7] = datetime.date(2027, 9, 1)\n",
        "record_date_dict[8] = datetime.date(2028, 3, 1)\n",
        "record_date_dict[9] = datetime.date(2028, 9, 1)"
      ]
    },
    {
      "cell_type": "code",
      "execution_count": 61,
      "metadata": {
        "colab": {},
        "colab_type": "code",
        "id": "mXuqtcna-cmg"
      },
      "outputs": [],
      "source": [
        "def calculate_present_value(bond, day):\n",
        "    # calculate the dirty price for this bond\n",
        "    dirty_price = bond.coupon_rate * (183 - (31- day) - 29) / 183\n",
        "    # with dirty price and close price we can calculate the present\n",
        "    # value for a certain bond based on this day's observation\n",
        "    print(bond.ten_day_price)\n",
        "    present_value = round(dirty_price + bond.ten_day_price[day], 4)\n",
        "    return present_value"
      ]
    },
    {
      "cell_type": "code",
      "execution_count": 62,
      "metadata": {
        "colab": {},
        "colab_type": "code",
        "id": "1go9tiOJbrfz"
      },
      "outputs": [],
      "source": [
        "def calculate_year_difference(date_one, date_two):\n",
        "    duration_in_s = (date_two - date_one).total_seconds()\n",
        "    return round(divmod(duration_in_s, 86400)[0] / 365, 3)\n",
        "\n",
        "def generate_year_fraction_dict(recording_date, year_fraction_dict, counter = 0):\n",
        "    for i in range(len(bonds_list)-1):\n",
        "        year_fraction = calculate_year_difference(recording_date, \n",
        "                                              bonds_list[i].maturity_date)\n",
        "        year_fraction_dict[counter] = year_fraction\n",
        "\n",
        "        if calculate_year_difference(bonds_list[i].maturity_date,\n",
        "                                     bonds_list[i+1].maturity_date) > 0.6:\n",
        "            \n",
        "            later_year_fraction = calculate_year_difference(recording_date, \n",
        "                                              bonds_list[i+1].maturity_date)\n",
        "            year_fraction_dict[counter + 1] = (later_year_fraction +\n",
        "                                               year_fraction)/2\n",
        "            counter += 1\n",
        "        counter += 1\n",
        "    year_fraction_dict[counter] = calculate_year_difference(recording_date,\n",
        "                                                        bonds_list[-1].maturity_date)\n",
        "    return year_fraction_dict"
      ]
    },
    {
      "cell_type": "code",
      "execution_count": 63,
      "metadata": {
        "colab": {},
        "colab_type": "code",
        "id": "wOIxeU3CMWVM"
      },
      "outputs": [],
      "source": [
        "periods_dict = {}\n",
        "periods_dict[0] = 0\n",
        "periods_dict[1] = 1\n",
        "periods_dict[2] = 2\n",
        "periods_dict[3] = 3\n",
        "periods_dict[4] = 4\n",
        "periods_dict[5] = 6\n",
        "periods_dict[6] = 8\n",
        "periods_dict[7] = 9\n",
        "periods_dict[8] = 10\n",
        "\n",
        "def total_present_value(face_value, coupon, periods, rate, year_fraction_dict):\n",
        "    total_pv = 0\n",
        "    total_periods = periods_dict[periods]\n",
        "\n",
        "    if (periods == 0):\n",
        "        total_pv += face_value * math.exp(-year_fraction_dict[0] * rate)\n",
        "    else:\n",
        "        for i in range(total_periods):\n",
        "            total_pv += coupon * math.exp(-year_fraction_dict[i] * rate)\n",
        "        total_pv += face_value * math.exp(-year_fraction_dict[i+1] * rate)\n",
        "    return total_pv\n",
        " \n",
        "def calculate_ytm(bond, day, year_fraction_dict):\n",
        "    # print(bond.maturity_date)\n",
        "    present_value = calculate_present_value(bond, day)\n",
        "    face_value = bond.coupon_rate + 100\n",
        "    coupon = bond.coupon_rate\n",
        "    periods = bond.periods\n",
        "\n",
        "    ytm_one= coupon/100\n",
        "    condition_one = True\n",
        "    while condition_one:\n",
        "        if (present_value < face_value):\n",
        "            ytm_one -= 0.000001\n",
        "        else:\n",
        "            ytm_one += 0.000001\n",
        " \n",
        "        total_pv_one = total_present_value(face_value, coupon, periods, ytm_one, year_fraction_dict)\n",
        " \n",
        "        if (present_value < face_value):\n",
        "            condition_one = total_pv_one < present_value\n",
        "        else:\n",
        "            condition_one = total_pv_one > present_value\n",
        "    # print(\"YTM ONE\", ytm_one * 100)\n",
        "\n",
        "    ytm_two= coupon/100\n",
        "    condition_two = True\n",
        "    while condition_two:\n",
        "        if (present_value < face_value):\n",
        "            ytm_two += 0.000001\n",
        "        else:\n",
        "            ytm_two -= 0.000001\n",
        " \n",
        "        total_pv_two = total_present_value(face_value, coupon, periods, ytm_two, year_fraction_dict)\n",
        " \n",
        "        if (present_value < face_value):\n",
        "            condition_two = total_pv_two > present_value\n",
        "        else:\n",
        "            condition_two = total_pv_two < present_value\n",
        "    # print(\"YTM TWO\", ytm_two * 100)\n",
        "    return max(ytm_one * 100, ytm_two * 100)"
      ]
    },
    {
      "cell_type": "code",
      "execution_count": 64,
      "metadata": {
        "colab": {
          "base_uri": "https://localhost:8080/",
          "height": 207
        },
        "colab_type": "code",
        "id": "-DOqUC48xpnS",
        "outputId": "db665493-8309-4d48-d7f9-9ba9b8f0f4bf"
      },
      "outputs": [
        {
          "name": "stdout",
          "output_type": "stream",
          "text": [
            "0\n",
            "{'Unnamed: 0': {3: 4}, '0': {3: 99.63}, '1': {3: 99.64}, '2': {3: 99.65}, '3': {3: 99.66}, '4': {3: 99.67}, '5': {3: 99.68}, '6': {3: 99.68}, '7': {3: 99.68}, '8': {3: 99.7}, '9': {3: 99.72}, '10': {3: 99.72}, 'Coupon': {3: 0.025}, 'ISIN': {3: 'CA135087J546'}, 'issue date': {3: '10/5/2018'}, 'maturity date': {3: '3/1/2024'}}\n"
          ]
        },
        {
          "ename": "KeyError",
          "evalue": "0",
          "output_type": "error",
          "traceback": [
            "\u001b[0;31m---------------------------------------------------------------------------\u001b[0m",
            "\u001b[0;31mKeyError\u001b[0m                                  Traceback (most recent call last)",
            "Cell \u001b[0;32mIn[64], line 54\u001b[0m\n\u001b[1;32m     49\u001b[0m     \u001b[38;5;66;03m# print(day_to_raw_ytm_dict)\u001b[39;00m\n\u001b[1;32m     50\u001b[0m     \u001b[38;5;66;03m# print(day_to_full_ytm_dict)\u001b[39;00m\n\u001b[1;32m     51\u001b[0m     \u001b[38;5;66;03m# print(day_to_year_fraction_dict)\u001b[39;00m\n\u001b[1;32m     52\u001b[0m     \u001b[38;5;28;01mreturn\u001b[39;00m day_to_raw_ytm_dict, day_to_full_ytm_dict, day_to_year_fraction_dict\n\u001b[0;32m---> 54\u001b[0m day_to_raw_ytm_dict, day_to_full_ytm_dict, day_to_year_fraction_dict \u001b[38;5;241m=\u001b[39m \u001b[43mgenerate_ytm_per_day\u001b[49m\u001b[43m(\u001b[49m\u001b[43mbonds_list\u001b[49m\u001b[43m)\u001b[49m\n",
            "Cell \u001b[0;32mIn[64], line 30\u001b[0m, in \u001b[0;36mgenerate_ytm_per_day\u001b[0;34m(bonds_list)\u001b[0m\n\u001b[1;32m     28\u001b[0m bond \u001b[38;5;241m=\u001b[39m bonds_list[j]\n\u001b[1;32m     29\u001b[0m next_bond \u001b[38;5;241m=\u001b[39m bonds_list[j\u001b[38;5;241m+\u001b[39m\u001b[38;5;241m1\u001b[39m]\n\u001b[0;32m---> 30\u001b[0m ytm \u001b[38;5;241m=\u001b[39m \u001b[43mcalculate_ytm\u001b[49m\u001b[43m(\u001b[49m\u001b[43mbond\u001b[49m\u001b[43m,\u001b[49m\u001b[43m \u001b[49m\u001b[43mi\u001b[49m\u001b[43m,\u001b[49m\u001b[43m \u001b[49m\u001b[43myear_fraction_dict\u001b[49m\u001b[43m)\u001b[49m\n\u001b[1;32m     31\u001b[0m raw_ytm_list\u001b[38;5;241m.\u001b[39mappend(ytm)\n\u001b[1;32m     32\u001b[0m full_ytm_list\u001b[38;5;241m.\u001b[39mappend(ytm)\n",
            "Cell \u001b[0;32mIn[63], line 26\u001b[0m, in \u001b[0;36mcalculate_ytm\u001b[0;34m(bond, day, year_fraction_dict)\u001b[0m\n\u001b[1;32m     24\u001b[0m \u001b[38;5;28;01mdef\u001b[39;00m \u001b[38;5;21mcalculate_ytm\u001b[39m(bond, day, year_fraction_dict):\n\u001b[1;32m     25\u001b[0m     \u001b[38;5;66;03m# print(bond.maturity_date)\u001b[39;00m\n\u001b[0;32m---> 26\u001b[0m     present_value \u001b[38;5;241m=\u001b[39m \u001b[43mcalculate_present_value\u001b[49m\u001b[43m(\u001b[49m\u001b[43mbond\u001b[49m\u001b[43m,\u001b[49m\u001b[43m \u001b[49m\u001b[43mday\u001b[49m\u001b[43m)\u001b[49m\n\u001b[1;32m     27\u001b[0m     face_value \u001b[38;5;241m=\u001b[39m bond\u001b[38;5;241m.\u001b[39mcoupon_rate \u001b[38;5;241m+\u001b[39m \u001b[38;5;241m100\u001b[39m\n\u001b[1;32m     28\u001b[0m     coupon \u001b[38;5;241m=\u001b[39m bond\u001b[38;5;241m.\u001b[39mcoupon_rate\n",
            "Cell \u001b[0;32mIn[61], line 8\u001b[0m, in \u001b[0;36mcalculate_present_value\u001b[0;34m(bond, day)\u001b[0m\n\u001b[1;32m      5\u001b[0m \u001b[38;5;66;03m# with dirty price and close price we can calculate the present\u001b[39;00m\n\u001b[1;32m      6\u001b[0m \u001b[38;5;66;03m# value for a certain bond based on this day's observation\u001b[39;00m\n\u001b[1;32m      7\u001b[0m \u001b[38;5;28mprint\u001b[39m(bond\u001b[38;5;241m.\u001b[39mten_day_price)\n\u001b[0;32m----> 8\u001b[0m present_value \u001b[38;5;241m=\u001b[39m \u001b[38;5;28mround\u001b[39m(dirty_price \u001b[38;5;241m+\u001b[39m \u001b[43mbond\u001b[49m\u001b[38;5;241;43m.\u001b[39;49m\u001b[43mten_day_price\u001b[49m\u001b[43m[\u001b[49m\u001b[43mday\u001b[49m\u001b[43m]\u001b[49m, \u001b[38;5;241m4\u001b[39m)\n\u001b[1;32m      9\u001b[0m \u001b[38;5;28;01mreturn\u001b[39;00m present_value\n",
            "\u001b[0;31mKeyError\u001b[0m: 0"
          ]
        }
      ],
      "source": [
        "def generate_ytm_per_day(bonds_list):\n",
        "    day_to_raw_ytm_dict = {}\n",
        "    day_to_full_ytm_dict = {}\n",
        "    # day_to_present_value_dict = {}\n",
        "    day_to_year_fraction_dict = {}\n",
        "\n",
        "    # loop through all ten days\n",
        "    for i in range(10):\n",
        "        # a list to store ytm for 9 time periods (such as 2020.3.1, 2020.9.1etc)\n",
        "        # based on the observation of a single date\n",
        "        raw_ytm_list = []\n",
        "        full_ytm_list = []\n",
        "        # a list to store present values for 9 time periods\n",
        "        # based on the observation of a single date\n",
        "        present_value_list = []\n",
        "        # a dict to store the year fraction information\n",
        "        # calculate the number of years between the day of observation\n",
        "        # and the maturity date of the bond, eg. the bond matures 1.12\n",
        "        # in years from today\n",
        "        input_dict = {}\n",
        "        year_fraction_dict = generate_year_fraction_dict(record_date_dict[i],\n",
        "                                                         input_dict)\n",
        "\n",
        "        # loop through all bonds by index\n",
        "        j = 0\n",
        "        # for j in range(len(bonds_list) - 1):\n",
        "        while(j < len(bonds_list)-1):\n",
        "            bond = bonds_list[j]\n",
        "            next_bond = bonds_list[j+1]\n",
        "            ytm = calculate_ytm(bond, i, year_fraction_dict)\n",
        "            raw_ytm_list.append(ytm)\n",
        "            full_ytm_list.append(ytm)\n",
        "            if calculate_year_difference(bond.maturity_date, \n",
        "                                        next_bond.maturity_date) > 0.6:\n",
        "                next_bond_ytm = calculate_ytm(next_bond, i, year_fraction_dict)\n",
        "                average_ytm = (next_bond_ytm + ytm)/2\n",
        "                full_ytm_list.append(average_ytm)\n",
        "            j += 1\n",
        "\n",
        "        last_bond = bonds_list[-1]\n",
        "        last_ytm = calculate_ytm(last_bond, i, year_fraction_dict)\n",
        "        raw_ytm_list.append(last_ytm)\n",
        "        full_ytm_list.append(last_ytm)\n",
        "        print(full_ytm_list)\n",
        "        day_to_raw_ytm_dict[i] = raw_ytm_list\n",
        "        day_to_full_ytm_dict[i] = full_ytm_list\n",
        "        day_to_year_fraction_dict[i] = year_fraction_dict\n",
        "\n",
        "    # print(day_to_raw_ytm_dict)\n",
        "    # print(day_to_full_ytm_dict)\n",
        "    # print(day_to_year_fraction_dict)\n",
        "    return day_to_raw_ytm_dict, day_to_full_ytm_dict, day_to_year_fraction_dict\n",
        "\n",
        "day_to_raw_ytm_dict, day_to_full_ytm_dict, day_to_year_fraction_dict = generate_ytm_per_day(bonds_list)"
      ]
    },
    {
      "cell_type": "code",
      "execution_count": 77,
      "metadata": {
        "colab": {
          "base_uri": "https://localhost:8080/",
          "height": 295
        },
        "colab_type": "code",
        "id": "N-rdxGQ-IPTv",
        "outputId": "07576688-b1ed-46a8-96c0-8cb263458994"
      },
      "outputs": [
        {
          "data": {
            "image/png": "[encoded data removed]",
            "text/plain": [
              "<Figure size 640x480 with 1 Axes>"
            ]
          },
          "metadata": {},
          "output_type": "display_data"
        }
      ],
      "source": [
        "# for i in range(10):\n",
        "#     plt.plot(day_to_full_ytm_dict[i])\n",
        "\n",
        "# maturity_list = []\n",
        "\n",
        "dates = ['Jan 2', 'Jan 3', 'Jan 6', 'Jan 7', 'Jan 8', 'Jan 9', 'Jan 10', 'Jan 13', 'Jan 14', 'Jan 15']\n",
        "plt.xlabel('time to maturity')\n",
        "plt.ylabel('yield to maturity')\n",
        "plt.title('five year yield curve')\n",
        "plt.xticks(ticks = [0, 1, 2, 3, 4, 5, 6, 7, 8, 9, 10],labels = ['20/3','20/9','21/3','21/9', '22/3', '22/9', '23/3', '23/9', '24/3', '24/9','2025/3'])\n",
        "for i in range(10):\n",
        "    plt.plot(day_to_full_ytm_dict[i], label = dates[i])\n",
        "plt.legend(loc=1, prop={'size': 6})\n",
        "plt.show()"
      ]
    },
    {
      "cell_type": "code",
      "execution_count": 24,
      "metadata": {
        "colab": {
          "base_uri": "https://localhost:8080/",
          "height": 34
        },
        "colab_type": "code",
        "id": "LGxwX0QmBhbN",
        "outputId": "3582a6fd-cd9d-4e7e-fe9e-411612422bb8"
      },
      "outputs": [
        {
          "name": "stdout",
          "output_type": "stream",
          "text": [
            "1\n"
          ]
        },
        {
          "ename": "KeyError",
          "evalue": "1",
          "output_type": "error",
          "traceback": [
            "\u001b[0;31m---------------------------------------------------------------------------\u001b[0m",
            "\u001b[0;31mKeyError\u001b[0m                                  Traceback (most recent call last)",
            "File \u001b[0;32m~/miniconda3/envs/apm466/lib/python3.12/site-packages/pandas/core/indexes/base.py:3802\u001b[0m, in \u001b[0;36mIndex.get_loc\u001b[0;34m(self, key)\u001b[0m\n\u001b[1;32m   3801\u001b[0m \u001b[38;5;28;01mtry\u001b[39;00m:\n\u001b[0;32m-> 3802\u001b[0m     \u001b[38;5;28;01mreturn\u001b[39;00m \u001b[38;5;28;43mself\u001b[39;49m\u001b[38;5;241;43m.\u001b[39;49m\u001b[43m_engine\u001b[49m\u001b[38;5;241;43m.\u001b[39;49m\u001b[43mget_loc\u001b[49m\u001b[43m(\u001b[49m\u001b[43mcasted_key\u001b[49m\u001b[43m)\u001b[49m\n\u001b[1;32m   3803\u001b[0m \u001b[38;5;28;01mexcept\u001b[39;00m \u001b[38;5;167;01mKeyError\u001b[39;00m \u001b[38;5;28;01mas\u001b[39;00m err:\n",
            "File \u001b[0;32mindex.pyx:153\u001b[0m, in \u001b[0;36mpandas._libs.index.IndexEngine.get_loc\u001b[0;34m()\u001b[0m\n",
            "File \u001b[0;32mindex.pyx:182\u001b[0m, in \u001b[0;36mpandas._libs.index.IndexEngine.get_loc\u001b[0;34m()\u001b[0m\n",
            "File \u001b[0;32mpandas/_libs/hashtable_class_helper.pxi:7081\u001b[0m, in \u001b[0;36mpandas._libs.hashtable.PyObjectHashTable.get_item\u001b[0;34m()\u001b[0m\n",
            "File \u001b[0;32mpandas/_libs/hashtable_class_helper.pxi:7089\u001b[0m, in \u001b[0;36mpandas._libs.hashtable.PyObjectHashTable.get_item\u001b[0;34m()\u001b[0m\n",
            "\u001b[0;31mKeyError\u001b[0m: 1",
            "\nThe above exception was the direct cause of the following exception:\n",
            "\u001b[0;31mKeyError\u001b[0m                                  Traceback (most recent call last)",
            "Cell \u001b[0;32mIn[24], line 86\u001b[0m\n\u001b[1;32m     84\u001b[0m spot_rate_list \u001b[38;5;241m=\u001b[39m [\u001b[38;5;241m2.430500000000298\u001b[39m, \u001b[38;5;241m1.8611000062756204\u001b[39m, \u001b[38;5;241m1.7118000050331317\u001b[39m, \u001b[38;5;241m1.713200005043125\u001b[39m, \u001b[38;5;241m1.6417000044501946\u001b[39m]\n\u001b[1;32m     85\u001b[0m ytm_list \u001b[38;5;241m=\u001b[39m [\u001b[38;5;241m2.3690000000002365\u001b[39m, \u001b[38;5;241m1.8012999999997188\u001b[39m, \u001b[38;5;241m1.6776999999995952\u001b[39m, \u001b[38;5;241m1.7076999999996252\u001b[39m, \u001b[38;5;241m1.6232999999995574\u001b[39m, \u001b[38;5;241m1.6204999999995529\u001b[39m, \u001b[38;5;241m1.6927999999995602\u001b[39m, \u001b[38;5;241m1.5533999999994534\u001b[39m]\n\u001b[0;32m---> 86\u001b[0m x \u001b[38;5;241m=\u001b[39m \u001b[43mcalculate_spot_rate\u001b[49m\u001b[43m(\u001b[49m\u001b[43mbond\u001b[49m\u001b[43m,\u001b[49m\u001b[43m \u001b[49m\u001b[43mday\u001b[49m\u001b[43m,\u001b[49m\u001b[43m \u001b[49m\u001b[43mbond_index\u001b[49m\u001b[43m,\u001b[49m\u001b[43m \u001b[49m\u001b[43myear_fraction_dict\u001b[49m\u001b[43m,\u001b[49m\u001b[43m \u001b[49m\u001b[43mspot_rate_list\u001b[49m\u001b[43m,\u001b[49m\u001b[43m \u001b[49m\u001b[43mytm_list\u001b[49m\u001b[43m,\u001b[49m\u001b[43m \u001b[49m\u001b[38;5;28;43;01mTrue\u001b[39;49;00m\u001b[43m)\u001b[49m\n\u001b[1;32m     87\u001b[0m \u001b[38;5;28mprint\u001b[39m(x)\n",
            "Cell \u001b[0;32mIn[24], line 26\u001b[0m, in \u001b[0;36mcalculate_spot_rate\u001b[0;34m(bond, day, bond_index, year_fraction_dict, spot_rate_list, ytm_list, with_gap)\u001b[0m\n\u001b[1;32m     25\u001b[0m \u001b[38;5;28;01mdef\u001b[39;00m \u001b[38;5;21mcalculate_spot_rate\u001b[39m(bond, day, bond_index, year_fraction_dict, spot_rate_list, ytm_list, with_gap):\n\u001b[0;32m---> 26\u001b[0m     present_value \u001b[38;5;241m=\u001b[39m \u001b[43mcalculate_present_value\u001b[49m\u001b[43m(\u001b[49m\u001b[43mbond\u001b[49m\u001b[43m,\u001b[49m\u001b[43m \u001b[49m\u001b[43mday\u001b[49m\u001b[43m)\u001b[49m\n\u001b[1;32m     28\u001b[0m     face_value \u001b[38;5;241m=\u001b[39m bond\u001b[38;5;241m.\u001b[39mcoupon_rate \u001b[38;5;241m+\u001b[39m \u001b[38;5;241m100\u001b[39m\n\u001b[1;32m     29\u001b[0m     coupon \u001b[38;5;241m=\u001b[39m bond\u001b[38;5;241m.\u001b[39mcoupon_rate\n",
            "Cell \u001b[0;32mIn[23], line 7\u001b[0m, in \u001b[0;36mcalculate_present_value\u001b[0;34m(bond, day)\u001b[0m\n\u001b[1;32m      4\u001b[0m \u001b[38;5;28mprint\u001b[39m(day)\n\u001b[1;32m      5\u001b[0m \u001b[38;5;66;03m# with dirty price and close price we can calculate the present\u001b[39;00m\n\u001b[1;32m      6\u001b[0m \u001b[38;5;66;03m# value for a certain bond based on this day's observation\u001b[39;00m\n\u001b[0;32m----> 7\u001b[0m present_value \u001b[38;5;241m=\u001b[39m \u001b[38;5;28mround\u001b[39m(dirty_price \u001b[38;5;241m+\u001b[39m \u001b[43mbond\u001b[49m\u001b[38;5;241;43m.\u001b[39;49m\u001b[43mten_day_price\u001b[49m\u001b[43m[\u001b[49m\u001b[43mday\u001b[49m\u001b[43m]\u001b[49m, \u001b[38;5;241m4\u001b[39m)\n\u001b[1;32m      8\u001b[0m \u001b[38;5;28;01mreturn\u001b[39;00m present_value\n",
            "File \u001b[0;32m~/miniconda3/envs/apm466/lib/python3.12/site-packages/pandas/core/frame.py:4090\u001b[0m, in \u001b[0;36mDataFrame.__getitem__\u001b[0;34m(self, key)\u001b[0m\n\u001b[1;32m   4088\u001b[0m \u001b[38;5;28;01mif\u001b[39;00m \u001b[38;5;28mself\u001b[39m\u001b[38;5;241m.\u001b[39mcolumns\u001b[38;5;241m.\u001b[39mnlevels \u001b[38;5;241m>\u001b[39m \u001b[38;5;241m1\u001b[39m:\n\u001b[1;32m   4089\u001b[0m     \u001b[38;5;28;01mreturn\u001b[39;00m \u001b[38;5;28mself\u001b[39m\u001b[38;5;241m.\u001b[39m_getitem_multilevel(key)\n\u001b[0;32m-> 4090\u001b[0m indexer \u001b[38;5;241m=\u001b[39m \u001b[38;5;28;43mself\u001b[39;49m\u001b[38;5;241;43m.\u001b[39;49m\u001b[43mcolumns\u001b[49m\u001b[38;5;241;43m.\u001b[39;49m\u001b[43mget_loc\u001b[49m\u001b[43m(\u001b[49m\u001b[43mkey\u001b[49m\u001b[43m)\u001b[49m\n\u001b[1;32m   4091\u001b[0m \u001b[38;5;28;01mif\u001b[39;00m is_integer(indexer):\n\u001b[1;32m   4092\u001b[0m     indexer \u001b[38;5;241m=\u001b[39m [indexer]\n",
            "File \u001b[0;32m~/miniconda3/envs/apm466/lib/python3.12/site-packages/pandas/core/indexes/base.py:3809\u001b[0m, in \u001b[0;36mIndex.get_loc\u001b[0;34m(self, key)\u001b[0m\n\u001b[1;32m   3804\u001b[0m     \u001b[38;5;28;01mif\u001b[39;00m \u001b[38;5;28misinstance\u001b[39m(casted_key, \u001b[38;5;28mslice\u001b[39m) \u001b[38;5;129;01mor\u001b[39;00m (\n\u001b[1;32m   3805\u001b[0m         \u001b[38;5;28misinstance\u001b[39m(casted_key, abc\u001b[38;5;241m.\u001b[39mIterable)\n\u001b[1;32m   3806\u001b[0m         \u001b[38;5;129;01mand\u001b[39;00m \u001b[38;5;28many\u001b[39m(\u001b[38;5;28misinstance\u001b[39m(x, \u001b[38;5;28mslice\u001b[39m) \u001b[38;5;28;01mfor\u001b[39;00m x \u001b[38;5;129;01min\u001b[39;00m casted_key)\n\u001b[1;32m   3807\u001b[0m     ):\n\u001b[1;32m   3808\u001b[0m         \u001b[38;5;28;01mraise\u001b[39;00m InvalidIndexError(key)\n\u001b[0;32m-> 3809\u001b[0m     \u001b[38;5;28;01mraise\u001b[39;00m \u001b[38;5;167;01mKeyError\u001b[39;00m(key) \u001b[38;5;28;01mfrom\u001b[39;00m \u001b[38;5;21;01merr\u001b[39;00m\n\u001b[1;32m   3810\u001b[0m \u001b[38;5;28;01mexcept\u001b[39;00m \u001b[38;5;167;01mTypeError\u001b[39;00m:\n\u001b[1;32m   3811\u001b[0m     \u001b[38;5;66;03m# If we have a listlike key, _check_indexing_error will raise\u001b[39;00m\n\u001b[1;32m   3812\u001b[0m     \u001b[38;5;66;03m#  InvalidIndexError. Otherwise we fall through and re-raise\u001b[39;00m\n\u001b[1;32m   3813\u001b[0m     \u001b[38;5;66;03m#  the TypeError.\u001b[39;00m\n\u001b[1;32m   3814\u001b[0m     \u001b[38;5;28mself\u001b[39m\u001b[38;5;241m.\u001b[39m_check_indexing_error(key)\n",
            "\u001b[0;31mKeyError\u001b[0m: 1"
          ]
        }
      ],
      "source": [
        "def total_spot_rate_present_value(face_value, coupon, periods, rate, year_fraction_dict, spot_rate_list, with_gap):\n",
        "    total_pv = 0\n",
        "    total_periods = periods_dict[periods]\n",
        "\n",
        "\n",
        "    if with_gap == False:\n",
        "        for i in range(total_periods):\n",
        "            total_pv += coupon * math.exp(-year_fraction_dict[i] * (spot_rate_list[i]/100))\n",
        "        total_pv += face_value * math.exp(-year_fraction_dict[i+1] * rate)\n",
        "    else:\n",
        "        for i in range(total_periods - 1):\n",
        "            total_pv += coupon * math.exp(-year_fraction_dict[i] * (spot_rate_list[i]/100))\n",
        "        # print(coupon * math.exp(-year_fraction_dict[i+1] * ((spot_rate_list[-1]/100 + rate)/2)))\n",
        "        # print(spot_rate_list[-1])\n",
        "        # print(rate)\n",
        "        # print((spot_rate_list[-1]/100 + rate)/2)\n",
        "        total_pv += coupon * math.exp(-year_fraction_dict[i+1] * ((spot_rate_list[-1]/100 + rate)/2))\n",
        "        # print(face_value * math.exp(-year_fraction_dict[i+2] * rate))\n",
        "        total_pv += face_value * math.exp(-year_fraction_dict[i+2] * rate)\n",
        "\n",
        "\n",
        "    return total_pv\n",
        "\n",
        "\n",
        "def calculate_spot_rate(bond, day, bond_index, year_fraction_dict, spot_rate_list, ytm_list, with_gap):\n",
        "    present_value = calculate_present_value(bond, day)\n",
        "    \n",
        "    face_value = bond.coupon_rate + 100\n",
        "    coupon = bond.coupon_rate\n",
        "    periods = bond.periods\n",
        "    spot_rate_one = ytm_list[bond_index]/100\n",
        "\n",
        "    condition_one = True\n",
        "    while condition_one:\n",
        "        if (present_value < face_value):\n",
        "            spot_rate_one -= 0.000001\n",
        "        else:\n",
        "            spot_rate_one += 0.000001\n",
        " \n",
        "        total_pv_one = total_spot_rate_present_value(face_value, coupon, periods,\n",
        "                                      spot_rate_one, year_fraction_dict,\n",
        "                                      spot_rate_list, with_gap)\n",
        "\n",
        "        if (present_value < face_value):\n",
        "            condition_one = total_pv_one < present_value\n",
        "        else:\n",
        "            condition_one = total_pv_one > present_value\n",
        "\n",
        "    spot_rate_two= ytm_list[bond_index]/100\n",
        "    condition_two = True\n",
        "    while condition_two:\n",
        "        if (present_value < face_value):\n",
        "            spot_rate_two += 0.000001\n",
        "        else:\n",
        "            spot_rate_two -= 0.000001\n",
        "\n",
        "        total_pv_two = total_spot_rate_present_value(face_value, coupon, periods,\n",
        "                                      spot_rate_two, year_fraction_dict,\n",
        "                                      spot_rate_list, with_gap)\n",
        "        \n",
        "        if (present_value < face_value):\n",
        "            condition_two = total_pv_two > present_value\n",
        "        else:\n",
        "            condition_two = total_pv_two < present_value\n",
        "\n",
        "\n",
        "    return max(spot_rate_one*100, spot_rate_two*100)\n",
        "\n",
        "\n",
        "\n",
        "year_fraction_dict = {}\n",
        "year_fraction_dict[0] = 0.162\n",
        "year_fraction_dict[1] = 0.666\n",
        "year_fraction_dict[2] = 1.162\n",
        "year_fraction_dict[3] = 1.666\n",
        "year_fraction_dict[4] = 2.162\n",
        "year_fraction_dict[5] = 2.666\n",
        "year_fraction_dict[6] = 3.162\n",
        "year_fraction_dict[7] = 3.666\n",
        "year_fraction_dict[8] = 4.162\n",
        "bond = bonds_list[2]\n",
        "day = 1\n",
        "bond_index = 5\n",
        "spot_rate_list = [2.430500000000298, 1.8611000062756204, 1.7118000050331317, 1.713200005043125, 1.6417000044501946]\n",
        "ytm_list = [2.3690000000002365, 1.8012999999997188, 1.6776999999995952, 1.7076999999996252, 1.6232999999995574, 1.6204999999995529, 1.6927999999995602, 1.5533999999994534]\n",
        "x = calculate_spot_rate(bond, day, bond_index, year_fraction_dict, spot_rate_list, ytm_list, True)\n",
        "print(x)"
      ]
    },
    {
      "cell_type": "code",
      "execution_count": 14,
      "metadata": {
        "colab": {
          "base_uri": "https://localhost:8080/",
          "height": 207
        },
        "colab_type": "code",
        "id": "F3Olers5x2BA",
        "outputId": "e25c3c79-12b5-450e-e81d-22c8ffc2f660"
      },
      "outputs": [
        {
          "name": "stdout",
          "output_type": "stream",
          "text": [
            "[2.430500000000298, 1.8618999999997794, 1.7126999999996302, 1.7138999999996314, 1.6424999999995766, 1.642849999999576, 1.6431999999995757, 1.6291499999996533, 1.615099999999731, 1.781499999999649, 1.6000999999994843]\n",
            "[2.3880000000002557, 1.8366999999997542, 1.6802999999995978, 1.6911999999996086, 1.6154999999995496, 1.611599999999545, 1.60769999999954, 1.5951999999996194, 1.5826999999996987, 1.7292999999995968, 1.5615999999994472]\n",
            "[2.487400000000355, 1.8560999999997736, 1.6726999999995902, 1.673499999999591, 1.6064999999995406, 1.5987499999995318, 1.5909999999995232, 1.5756999999996018, 1.5603999999996803, 1.653599999999521, 1.5331999999994683]\n",
            "[2.5102000000003777, 1.8768999999997944, 1.6840999999996016, 1.6937999999996112, 1.612999999999547, 1.60684999999954, 1.600699999999533, 1.600949999999625, 1.601199999999717, 1.6946999999995622, 1.5534999999994534]\n",
            "[2.5340000000004017, 1.8669999999997844, 1.7043999999996218, 1.6956999999996132, 1.6193999999995534, 1.611699999999545, 1.6039999999995365, 1.5902499999996145, 1.5764999999996925, 1.6626999999995302, 1.5536999999994532]\n",
            "[2.5588000000004265, 1.869499999999787, 1.7070999999996246, 1.7150999999996326, 1.6401999999995742, 1.63669999999957, 1.6331999999995657, 1.6230499999996473, 1.6128999999997289, 1.7220999999995896, 1.5904999999994747]\n",
            "[2.5662000000004337, 1.8750999999997926, 1.7438999999996614, 1.7169999999996344, 1.6362999999995704, 1.6409999999995741, 1.645699999999578, 1.6364999999996606, 1.6272999999997433, 1.7123999999995798, 1.600999999999485]\n",
            "[2.6907000000005583, 1.9112999999998288, 1.736499999999654, 1.7552999999996728, 1.6610999999995952, 1.6612999999995945, 1.6614999999995939, 1.6464999999996706, 1.6314999999997475, 1.707499999999575, 1.604899999999489]\n",
            "[2.721700000000589, 1.9012999999998188, 1.7392999999996568, 1.738499999999656, 1.657899999999592, 1.6531999999995866, 1.6484999999995809, 1.6298499999996539, 1.611199999999727, 1.7239999999995914, 1.5844999999994687]\n",
            "[2.7540000000006217, 1.8749999999997924, 1.7150999999996326, 1.7341999999996516, 1.6450999999995792, 1.6354499999995686, 1.625799999999558, 1.6060999999996302, 1.5863999999997023, 1.6993999999995668, 1.55819999999945]\n"
          ]
        }
      ],
      "source": [
        "def generate_spot_rate_per_day(bonds_list, day_to_year_fraction_dict):\n",
        "    spot_rate_dict = {}\n",
        "    for i in range(10):\n",
        "        spot_rate_list = []\n",
        "        for j in range(len(bonds_list)):\n",
        "            ytm_list = day_to_raw_ytm_dict[i]\n",
        "\n",
        "            if j == 0:\n",
        "                spot_rate_list.append(ytm_list[0])\n",
        "            if j >= 1:\n",
        "                prev_bond = bonds_list[j-1]\n",
        "                bond = bonds_list[j]\n",
        "                if calculate_year_difference(prev_bond.maturity_date, \n",
        "                                             bond.maturity_date) > 0.6:\n",
        "                    spot_rate = calculate_spot_rate(bond, i, j,\n",
        "                                                    day_to_year_fraction_dict[i],\n",
        "                                                    spot_rate_list, \n",
        "                                                    ytm_list, True)\n",
        "                    spot_rate_list.append((spot_rate_list[-1] + spot_rate)/2)\n",
        "                    spot_rate_list.append(spot_rate)\n",
        "                else:\n",
        "                    spot_rate = calculate_spot_rate(bond, i, j,\n",
        "                                                    day_to_year_fraction_dict[i],\n",
        "                                                    spot_rate_list,\n",
        "                                                    ytm_list, False)\n",
        "                    spot_rate_list.append(spot_rate)\n",
        "        print(spot_rate_list)\n",
        "        spot_rate_dict[i] = spot_rate_list\n",
        "    return spot_rate_dict\n",
        "\n",
        "                    \n",
        "spot_rate_dict = generate_spot_rate_per_day(bonds_list, day_to_year_fraction_dict)   "
      ]
    },
    {
      "cell_type": "code",
      "execution_count": 15,
      "metadata": {
        "colab": {
          "base_uri": "https://localhost:8080/",
          "height": 295
        },
        "colab_type": "code",
        "id": "19gaca3ow8cZ",
        "outputId": "12efd8ce-cd5a-4255-c92a-bed6be95cbbc"
      },
      "outputs": [
        {
          "data": {
            "image/png": "[encoded data removed]",
            "text/plain": [
              "<Figure size 432x288 with 1 Axes>"
            ]
          },
          "metadata": {
            "tags": []
          },
          "output_type": "display_data"
        }
      ],
      "source": [
        "# for i in range(10):\n",
        "#   plt.plot(spot_rate_dict[i])\n",
        "dates = ['Jan 2', 'Jan 3', 'Jan 6', 'Jan 7', 'Jan 8', 'Jan 9', 'Jan 10', 'Jan 13', 'Jan 14', 'Jan 15']\n",
        "plt.xlabel('time to maturity')\n",
        "plt.ylabel('spot rate')\n",
        "plt.title('five year spot rate curve')\n",
        "axes = plt.gca()\n",
        "axes.set_ylim([1.4, 2.8])\n",
        "plt.xticks(ticks = [0, 1, 2, 3, 4, 5, 6, 7, 8, 9, 10],labels = ['20/3','20/9','21/3','21/9', '22/3', '22/9', '23/3', '23/9', '24/3', '24/9','2025/3'])\n",
        "for i in range(10):\n",
        "    plt.plot(spot_rate_dict[i], label = dates[i])\n",
        "plt.legend(loc=1, prop={'size': 6})\n",
        "plt.savefig('/content/drive/My Drive/Colab Notebooks/A4/spot_rate.png')\n",
        "plt.show()"
      ]
    },
    {
      "cell_type": "code",
      "execution_count": 16,
      "metadata": {
        "colab": {
          "base_uri": "https://localhost:8080/",
          "height": 187
        },
        "colab_type": "code",
        "id": "Pj7H3pNvdii3",
        "outputId": "4ffa4498-8bd5-404d-a38c-2bdd583f99bc"
      },
      "outputs": [
        {
          "name": "stdout",
          "output_type": "stream",
          "text": [
            "[1.572299999999523, 1.6084499999995483, 1.5825666666664313, 1.5719499999994477]\n",
            "[1.5506999999995015, 1.5713999999995112, 1.5501666666663991, 1.5319249999994096]\n",
            "[1.540299999999491, 1.5501499999994897, 1.5229666666663768, 1.4983249999994377]\n",
            "[1.5418999999994925, 1.558999999999499, 1.5735666666664223, 1.5208499999994163]\n",
            "[1.534399999999485, 1.5537999999994938, 1.533866666666383, 1.516024999999411]\n",
            "[1.5732999999995239, 1.5962499999995363, 1.5814999999997637, 1.5613499999994371]\n",
            "[1.5286999999994795, 1.5965999999995364, 1.5884333333331038, 1.5652749999994409]\n",
            "[1.5856999999995365, 1.623999999999564, 1.5964999999997787, 1.5719999999994478]\n",
            "[1.5764999999995273, 1.6030999999995428, 1.5684999999997504, 1.5457999999994216]\n",
            "[1.5750999999995259, 1.5811499999995209, 1.5434999999997254, 1.5189749999994044]\n"
          ]
        }
      ],
      "source": [
        "def generate_forward_rate(spot_rate_dict):\n",
        "    forward_rate_dict = {}\n",
        "    for i in range(len(spot_rate_dict)):\n",
        "        forward_rate_list = []\n",
        "        r_0_1 = spot_rate_dict[i][2]\n",
        "\n",
        "        j = 2\n",
        "        k = 4\n",
        "        print\n",
        "        while(k < len(spot_rate_dict[0])):\n",
        "            forward = (spot_rate_dict[i][k] * j - r_0_1)/(j-1)\n",
        "            forward_rate_list.append(forward)        \n",
        "            j += 1\n",
        "            k += 2\n",
        "            \n",
        "        print(forward_rate_list)\n",
        "        forward_rate_dict[i] = forward_rate_list\n",
        "    return forward_rate_dict\n",
        "\n",
        "\n",
        "forward_rate_dict = generate_forward_rate(spot_rate_dict)"
      ]
    },
    {
      "cell_type": "code",
      "execution_count": 17,
      "metadata": {
        "colab": {
          "base_uri": "https://localhost:8080/",
          "height": 295
        },
        "colab_type": "code",
        "id": "ulNj9gkTF2uR",
        "outputId": "5a8399ff-82ea-4584-8ffc-70d93bc20acc"
      },
      "outputs": [
        {
          "data": {
            "image/png": "[encoded data removed]",
            "text/plain": [
              "<Figure size 432x288 with 1 Axes>"
            ]
          },
          "metadata": {
            "tags": []
          },
          "output_type": "display_data"
        }
      ],
      "source": [
        "dates = ['Jan 2', 'Jan 3', 'Jan 6', 'Jan 7', 'Jan 8', 'Jan 9', 'Jan 10', 'Jan 13', 'Jan 14', 'Jan 15']\n",
        "plt.xlabel('year')\n",
        "plt.ylabel('forward rate')\n",
        "plt.title('five year forward rate curve')\n",
        "axes = plt.gca()\n",
        "axes.set_ylim([1.4, 1.72])\n",
        "plt.xticks(ticks = [0, 1, 2, 3],labels = ['1yr-1yr','1yr-2yr','1yr-3yr','1yr-4yr'])\n",
        "for i in range(10):\n",
        "    plt.plot(forward_rate_dict[i], label = dates[i])\n",
        "plt.legend(loc=1, prop={'size': 6})\n",
        "plt.savefig('/content/drive/My Drive/Colab Notebooks/A4/forward_rate_one.png')\n",
        "plt.show()"
      ]
    },
    {
      "cell_type": "code",
      "execution_count": 23,
      "metadata": {
        "colab": {
          "base_uri": "https://localhost:8080/",
          "height": 187
        },
        "colab_type": "code",
        "id": "RmTLOcDkNzwg",
        "outputId": "f9385fba-e01a-4b15-9aaf-2850bb33e4e3"
      },
      "outputs": [
        {
          "name": "stdout",
          "output_type": "stream",
          "text": [
            "[[1.30101739e-04 8.94766906e-05 8.26383412e-05 1.00980301e-04\n",
            "  5.98365287e-05]\n",
            " [8.94766906e-05 1.41972539e-04 1.16699723e-04 1.40376444e-04\n",
            "  1.82737952e-04]\n",
            " [8.26383412e-05 1.16699723e-04 1.25098642e-04 1.46871748e-04\n",
            "  1.94325104e-04]\n",
            " [1.00980301e-04 1.40376444e-04 1.46871748e-04 2.13866657e-04\n",
            "  2.94514938e-04]\n",
            " [5.98365287e-05 1.82737952e-04 1.94325104e-04 2.94514938e-04\n",
            "  6.22666831e-04]]\n"
          ]
        }
      ],
      "source": [
        "def calculate_ytm_cov(day_to_full_ytm_dict):\n",
        "    ytm_list = []\n",
        "    for i in range(10):\n",
        "        j = 1\n",
        "        temp = []\n",
        "        while (j < len(day_to_full_ytm_dict[0])):\n",
        "            temp.append(day_to_full_ytm_dict[i][j])\n",
        "            j += 2\n",
        "        ytm_list.append(temp)\n",
        "\n",
        "    ytm_list = np.array(ytm_list).transpose()\n",
        "\n",
        "    log_returns = np.zeros((5, 9))\n",
        "    for i in range(len(ytm_list)):\n",
        "        for j in range(len(ytm_list[i])-1):\n",
        "            log_returns[i][j] = math.log(ytm_list[i][j]/ytm_list[i][j+1])\n",
        "\n",
        "    return np.cov(log_returns)\n",
        "\n",
        "ytm_cov_log_returns = calculate_ytm_cov(day_to_full_ytm_dict)\n",
        "print(ytm_cov_log_returns)"
      ]
    },
    {
      "cell_type": "code",
      "execution_count": 25,
      "metadata": {
        "colab": {
          "base_uri": "https://localhost:8080/",
          "height": 221
        },
        "colab_type": "code",
        "id": "RQhsdS3diq38",
        "outputId": "5232b97d-c12f-440b-edf4-404f1c6dbad8"
      },
      "outputs": [
        {
          "name": "stdout",
          "output_type": "stream",
          "text": [
            "[[ 0.01383307  0.00672924 -0.00103822  0.004876   -0.0250359   0.02875762\n",
            "  -0.03660825  0.00581875  0.00088844]\n",
            " [ 0.02330404  0.01361524 -0.00569289  0.00334105 -0.02695358 -0.00021924\n",
            "  -0.01701587  0.01295299  0.01378682]\n",
            " [ 0.02068555  0.01770226 -0.03268462  0.02555302 -0.03058198 -0.00437444\n",
            "  -0.00506553  0.01769398  0.01606718]\n",
            " [ 0.02579177  0.0221773  -0.01492157  0.00317761 -0.02945905 -0.0025107\n",
            "  -0.00428717  0.01680712  0.01750581]]\n",
            "[[0.00038622 0.00022733 0.00018891 0.00018493]\n",
            " [0.00022733 0.00026418 0.00028864 0.00028249]\n",
            " [0.00018891 0.00028864 0.00049305 0.00036401]\n",
            " [0.00018493 0.00028249 0.00036401 0.00034258]]\n"
          ]
        }
      ],
      "source": [
        "def calculate_forward_cov(forward_rate_dict):\n",
        "    forward_rate_list = []\n",
        "    for i in range(10):\n",
        "        j = 0\n",
        "        temp = []\n",
        "        while (j < len(forward_rate_dict[0])):\n",
        "            temp.append(forward_rate_dict[i][j])\n",
        "            j += 1\n",
        "        forward_rate_list.append(temp)\n",
        "\n",
        "    forward_rate_list = np.array(forward_rate_list).transpose()\n",
        "\n",
        "    log_returns = np.zeros((4, 9))\n",
        "    for i in range(len(forward_rate_list)):\n",
        "        for j in range(len(forward_rate_list[i])-1):\n",
        "            log_returns[i][j] = math.log(forward_rate_list[i][j]/forward_rate_list[i][j+1])\n",
        "\n",
        "    print(log_returns)\n",
        "\n",
        "    return np.cov(log_returns)\n",
        "\n",
        "forward_cov_log_returns = calculate_forward_cov(forward_rate_dict)\n",
        "print(forward_cov_log_returns)"
      ]
    },
    {
      "cell_type": "code",
      "execution_count": 20,
      "metadata": {
        "colab": {
          "base_uri": "https://localhost:8080/",
          "height": 221
        },
        "colab_type": "code",
        "id": "DEeR1XJ2nz6v",
        "outputId": "eb428946-9010-4c8e-bba6-ad1aa4dce18b"
      },
      "outputs": [
        {
          "name": "stdout",
          "output_type": "stream",
          "text": [
            "[9.62056725e-04 2.04082203e-04 3.41210452e-05 2.24011734e-05\n",
            " 1.10452618e-05]\n",
            "[[-0.17298505 -0.64521975  0.58958315  0.44157945  0.10567382]\n",
            " [-0.30906617 -0.37307159 -0.71145934  0.36791372 -0.35179652]\n",
            " [-0.31462237 -0.29324061 -0.2813533  -0.36216164  0.77762586]\n",
            " [-0.44275925 -0.22978847  0.2130021  -0.67338569 -0.50233785]\n",
            " [-0.76126952  0.55291615  0.1472676   0.29161232  0.0895933 ]]\n",
            "[1.01908859e-03 3.85193843e-04 5.54239753e-06 6.86986408e-05]\n",
            "[[ 0.13372948  0.96477788  0.15766259 -0.16267323]\n",
            " [ 0.48158546  0.13388859 -0.6962447   0.5151627 ]\n",
            " [ 0.65938866 -0.19406148 -0.11219439 -0.71760654]\n",
            " [ 0.56160347 -0.11669462  0.69122951  0.43952891]]\n"
          ]
        }
      ],
      "source": [
        "ytm_w, ytm_v = LA.eig(ytm_cov_log_returns)\n",
        "print(ytm_w)\n",
        "print(ytm_v)\n",
        "\n",
        "forward_w, forward_v = LA.eig(forward_cov_log_returns)\n",
        "print(forward_w)\n",
        "print(forward_v)"
      ]
    }
  ],
  "metadata": {
    "accelerator": "GPU",
    "colab": {
      "collapsed_sections": [],
      "name": "apm466a1.ipynb",
      "provenance": []
    },
    "kernelspec": {
      "display_name": "Python 3",
      "name": "python3"
    },
    "language_info": {
      "codemirror_mode": {
        "name": "ipython",
        "version": 3
      },
      "file_extension": ".py",
      "mimetype": "text/x-python",
      "name": "python",
      "nbconvert_exporter": "python",
      "pygments_lexer": "ipython3",
      "version": "3.12.1"
    }
  },
  "nbformat": 4,
  "nbformat_minor": 0
}
